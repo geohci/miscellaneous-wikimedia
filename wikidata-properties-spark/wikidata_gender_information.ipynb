{
 "cells": [
  {
   "cell_type": "code",
   "execution_count": 1,
   "metadata": {},
   "outputs": [
    {
     "data": {
      "text/html": [
       "\n",
       "            <div>\n",
       "                <p><b>SparkSession - hive</b></p>\n",
       "                \n",
       "        <div>\n",
       "            <p><b>SparkContext</b></p>\n",
       "\n",
       "            <p><a href=\"http://stat1004.eqiad.wmnet:4041\">Spark UI</a></p>\n",
       "\n",
       "            <dl>\n",
       "              <dt>Version</dt>\n",
       "                <dd><code>v2.4.4</code></dd>\n",
       "              <dt>Master</dt>\n",
       "                <dd><code>yarn</code></dd>\n",
       "              <dt>AppName</dt>\n",
       "                <dd><code>Jupyter Pyspark</code></dd>\n",
       "            </dl>\n",
       "        </div>\n",
       "        \n",
       "            </div>\n",
       "        "
      ],
      "text/plain": [
       "<pyspark.sql.session.SparkSession at 0x7f808ab53ac8>"
      ]
     },
     "execution_count": 1,
     "metadata": {},
     "output_type": "execute_result"
    }
   ],
   "source": [
    "spark"
   ]
  },
  {
   "cell_type": "code",
   "execution_count": 17,
   "metadata": {},
   "outputs": [
    {
     "data": {
      "text/plain": [
       "<function __main__.getValue>"
      ]
     },
     "execution_count": 17,
     "metadata": {},
     "output_type": "execute_result"
    }
   ],
   "source": [
    "# value info in wikidata entity table (https://wikitech.wikimedia.org/wiki/Analytics/Data_Lake/Edits/Wikidata_entity)\n",
    "# is a string as opposed to struct (because it has a variable schema)\n",
    "# this UDF extracts the QID value (or null if doesn't exist)\n",
    "def getValue(obj):\n",
    "    try:\n",
    "        d =  eval(obj)\n",
    "        return d.get('id')\n",
    "    except Exception:\n",
    "        return None\n",
    "    \n",
    "spark.udf.register('getValue', getValue, 'string')"
   ]
  },
  {
   "cell_type": "code",
   "execution_count": 34,
   "metadata": {},
   "outputs": [
    {
     "name": "stdout",
     "output_type": "stream",
     "text": [
      "\n",
      "    CREATE TABLE IF NOT EXISTS isaacj.gender_wikidata (\n",
      "        item_id    STRING  COMMENT 'QID',\n",
      "        page_id    INT     COMMENT 'Page ID in enwiki',\n",
      "        property   STRING  COMMENT 'Property -- always P21 sex-or-gender',\n",
      "        value      STRING  COMMENT 'Value -- generally either Q6581097 (male) or Q6581072 (female)'\n",
      "    )\n",
      "    \n"
     ]
    }
   ],
   "source": [
    "tablename = 'isaacj.gender_wikidata'\n",
    "wiki_db = 'enwiki'\n",
    "create_table_query = \"\"\"\n",
    "    CREATE TABLE IF NOT EXISTS {0} (\n",
    "        item_id    STRING  COMMENT 'QID',\n",
    "        page_id    INT     COMMENT 'Page ID in {1}',\n",
    "        property   STRING  COMMENT 'Property -- always P21 sex-or-gender',\n",
    "        value      STRING  COMMENT 'Value -- generally either Q6581097 (male) or Q6581072 (female)'\n",
    "    )\n",
    "    \"\"\".format(tablename, wiki_db)\n",
    "\n",
    "print(create_table_query)\n",
    "spark.sql(create_table_query)"
   ]
  },
  {
   "cell_type": "code",
   "execution_count": 35,
   "metadata": {},
   "outputs": [
    {
     "name": "stdout",
     "output_type": "stream",
     "text": [
      "\n",
      "WITH relevant_qids AS (\n",
      "    SELECT page_id,\n",
      "           item_id\n",
      "      FROM wmf.wikidata_item_page_link\n",
      "     WHERE snapshot = '2020-07-06'\n",
      "           AND page_namespace = 0\n",
      "           AND wiki_db = 'enwiki'\n",
      "),\n",
      "exploded_statements AS (\n",
      "    SELECT id as item_id,\n",
      "           q.page_id as page_id,\n",
      "           explode(claims) as claim\n",
      "      FROM wmf.wikidata_entity w\n",
      "     INNER JOIN relevant_qids q\n",
      "           ON (w.id = q.item_id)\n",
      "     WHERE w.snapshot = '2020-07-06'\n",
      "),\n",
      "relevant_statements AS (\n",
      "    SELECT item_id,\n",
      "           page_id,\n",
      "           claim.mainSnak.property AS property,\n",
      "           getValue(claim.mainSnak.dataValue.value) as value\n",
      "     FROM exploded_statements\n",
      "    WHERE claim.mainSnak.property IN ('P31', 'P21')\n",
      "),\n",
      "humans AS (\n",
      "    SELECT DISTINCT item_id\n",
      "      FROM relevant_statements\n",
      "     WHERE property = 'P31'\n",
      "           AND value = 'Q5'\n",
      ")\n",
      "INSERT OVERWRITE TABLE isaacj.gender_wikidata\n",
      "SELECT s.item_id,\n",
      "       s.page_id,\n",
      "       s.property,\n",
      "       s.value\n",
      "  FROM relevant_statements s\n",
      " INNER JOIN humans h\n",
      "       ON (h.item_id = s.item_id)\n",
      " WHERE s.property = 'P21'\n",
      "\n"
     ]
    }
   ],
   "source": [
    "print_for_hive = False\n",
    "do_execute = True\n",
    "\n",
    "query = \"\"\"\n",
    "WITH relevant_qids AS (\n",
    "    SELECT page_id,\n",
    "           item_id\n",
    "      FROM wmf.wikidata_item_page_link\n",
    "     WHERE snapshot = '2020-07-06'\n",
    "           AND page_namespace = 0\n",
    "           AND wiki_db = '{0}'\n",
    "),\n",
    "exploded_statements AS (\n",
    "    SELECT id as item_id,\n",
    "           q.page_id as page_id,\n",
    "           explode(claims) as claim\n",
    "      FROM wmf.wikidata_entity w\n",
    "     INNER JOIN relevant_qids q\n",
    "           ON (w.id = q.item_id)\n",
    "     WHERE w.snapshot = '2020-07-06'\n",
    "),\n",
    "relevant_statements AS (\n",
    "    SELECT item_id,\n",
    "           page_id,\n",
    "           claim.mainSnak.property AS property,\n",
    "           getValue(claim.mainSnak.dataValue.value) as value\n",
    "     FROM exploded_statements\n",
    "    WHERE claim.mainSnak.property IN ('P31', 'P21')\n",
    "),\n",
    "humans AS (\n",
    "    SELECT DISTINCT item_id\n",
    "      FROM relevant_statements\n",
    "     WHERE property = 'P31'\n",
    "           AND value = 'Q5'\n",
    ")\n",
    "INSERT OVERWRITE TABLE {1}\n",
    "SELECT s.item_id,\n",
    "       s.page_id,\n",
    "       s.property,\n",
    "       s.value\n",
    "  FROM relevant_statements s\n",
    " INNER JOIN humans h\n",
    "       ON (h.item_id = s.item_id)\n",
    " WHERE s.property = 'P21'\n",
    "\"\"\".format(wiki_db, tablename)\n",
    "\n",
    "if print_for_hive:\n",
    "    print(re.sub(' +', ' ', re.sub('\\n', ' ', query)).strip())\n",
    "else:\n",
    "    print(query)\n",
    "\n",
    "if do_execute:\n",
    "    result = spark.sql(query)"
   ]
  },
  {
   "cell_type": "code",
   "execution_count": 30,
   "metadata": {},
   "outputs": [
    {
     "name": "stdout",
     "output_type": "stream",
     "text": [
      "+---------+---------+\n",
      "|    value|num_items|\n",
      "+---------+---------+\n",
      "|   Q48270|      175|\n",
      "| Q6581072|   329414|\n",
      "|Q27679684|        2|\n",
      "|     null|      111|\n",
      "|Q15145778|        5|\n",
      "|  Q859614|        2|\n",
      "| Q1289754|        1|\n",
      "| Q3277905|        1|\n",
      "|  Q189125|        5|\n",
      "|  Q179294|       74|\n",
      "| Q2449503|      186|\n",
      "| Q1097630|       79|\n",
      "|  Q505371|        2|\n",
      "|Q27679766|        1|\n",
      "|Q15145779|       15|\n",
      "|Q18116794|       20|\n",
      "|  Q207959|        1|\n",
      "| Q6581097|  1439869|\n",
      "|  Q301702|        2|\n",
      "| Q1052281|      523|\n",
      "|Q93954933|        1|\n",
      "|Q12964198|       10|\n",
      "|Q52261234|        5|\n",
      "+---------+---------+\n",
      "\n"
     ]
    }
   ],
   "source": [
    "spark.sql(\"\"\"SELECT value, count(1) as num_items FROM {0} GROUP BY value\"\"\".format(tablename)).show(n=100)"
   ]
  }
 ],
 "metadata": {
  "kernelspec": {
   "display_name": "PySpark - YARN",
   "language": "python",
   "name": "spark_yarn_pyspark"
  },
  "language_info": {
   "codemirror_mode": {
    "name": "ipython",
    "version": 3
   },
   "file_extension": ".py",
   "mimetype": "text/x-python",
   "name": "python",
   "nbconvert_exporter": "python",
   "pygments_lexer": "ipython3",
   "version": "3.5.3"
  }
 },
 "nbformat": 4,
 "nbformat_minor": 4
}
